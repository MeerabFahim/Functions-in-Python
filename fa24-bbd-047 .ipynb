{
 "cells": [
  {
   "cell_type": "code",
   "execution_count": 19,
   "id": "eefada11-7c04-43f6-be3a-2be06974a20a",
   "metadata": {},
   "outputs": [
    {
     "name": "stdout",
     "output_type": "stream",
     "text": [
      "Hello, Meerab! The current date and time is 2024-11-28 12:25:35.634549.\n"
     ]
    }
   ],
   "source": [
    "from datetime import datetime\n",
    "\n",
    "def greet_with_time(name):\n",
    "    # Get the current date and time\n",
    "    current_time = datetime.now()\n",
    "    \n",
    "    # Print the greeting message\n",
    "    print(\"Hello, {}! The current date and time is {}.\".format(name, current_time))\n",
    "\n",
    "# Example usage\n",
    "greet_with_time(\"Meerab\")\n"
   ]
  },
  {
   "cell_type": "code",
   "execution_count": 11,
   "id": "6afe62ad-1019-4a8b-a440-61a00b122b66",
   "metadata": {},
   "outputs": [
    {
     "name": "stdout",
     "output_type": "stream",
     "text": [
      "The average is: 10.0\n"
     ]
    }
   ],
   "source": [
    "def calculate_average(num1, num2, num3): return (num1 + num2 + num3) / 3\n",
    "\n",
    "print(\"The average is:\", calculate_average(5, 10, 15))\n"
   ]
  },
  {
   "cell_type": "code",
   "execution_count": 13,
   "id": "c0f8928d-c262-4cd3-91cb-a81a7c2fb017",
   "metadata": {},
   "outputs": [
    {
     "name": "stdout",
     "output_type": "stream",
     "text": [
      "Final price: 90.0\n",
      "Final price: 80.0\n"
     ]
    }
   ],
   "source": [
    "def calculate_discount(price, discount_percentage=10):\n",
    "    return price - (price * discount_percentage / 100)\n",
    "\n",
    "# Example Usage\n",
    "print(\"Final price:\", calculate_discount(100))  # Default discount of 10%\n",
    "print(\"Final price:\", calculate_discount(100, 20))  # Custom discount of 20%\n"
   ]
  },
  {
   "cell_type": "code",
   "execution_count": 17,
   "id": "90f78263-1cd1-4033-ac6c-0e383ee123ce",
   "metadata": {},
   "outputs": [
    {
     "name": "stdout",
     "output_type": "stream",
     "text": [
      "Name: Meerab\n",
      "Age: 18\n",
      "City: Lahore\n"
     ]
    }
   ],
   "source": [
    "def print_info(*, name, age, city):\n",
    "    print(f\"Name: {name}\")\n",
    "    print(f\"Age: {age}\")\n",
    "    print(f\"City: {city}\")\n",
    "\n",
    "# Example Usage\n",
    "print_info(name=\"Meerab\", age=18, city=\"Lahore\")\n"
   ]
  },
  {
   "cell_type": "code",
   "execution_count": 21,
   "id": "17270d8d-062e-4e77-b0d7-78f5467f164a",
   "metadata": {},
   "outputs": [
    {
     "name": "stdout",
     "output_type": "stream",
     "text": [
      "Maximum value: 8\n",
      "Maximum value: None\n"
     ]
    }
   ],
   "source": [
    "def find_max(*args):\n",
    "    if not args:\n",
    "        return None  # Return None if no arguments are provided\n",
    "    return max(args)\n",
    "\n",
    "# Example Usage\n",
    "print(\"Maximum value:\", find_max(3, 5, 7, 2, 8))  # Output: 8\n",
    "print(\"Maximum value:\", find_max())  # Output: None (no arguments)\n"
   ]
  },
  {
   "cell_type": "code",
   "execution_count": 23,
   "id": "b293ae43-1f4f-42f8-936a-7d8ac8382a26",
   "metadata": {},
   "outputs": [
    {
     "name": "stdout",
     "output_type": "stream",
     "text": [
      "Factorial of 5: 120\n",
      "Factorial of 0: 1\n"
     ]
    }
   ],
   "source": [
    "def factorial(n):\n",
    "    if n == 0 or n == 1:  # Base case\n",
    "        return 1\n",
    "    return n * factorial(n - 1)  # Recursive case\n",
    "\n",
    "# Example Usage\n",
    "print(\"Factorial of 5:\", factorial(5))  # Output: 120\n",
    "print(\"Factorial of 0:\", factorial(0))  # Output: 1\n"
   ]
  },
  {
   "cell_type": "code",
   "execution_count": 25,
   "id": "f5024b98-06d7-4a74-b55f-1eb5688364ed",
   "metadata": {},
   "outputs": [
    {
     "name": "stdout",
     "output_type": "stream",
     "text": [
      "Result: [1, 4, 9, 16, 25]\n"
     ]
    }
   ],
   "source": [
    "def apply_function(func, numbers):\n",
    "    return [func(num) for num in numbers]\n",
    "\n",
    "# Example Usage\n",
    "def square(x):\n",
    "    return x ** 2\n",
    "\n",
    "nums = [1, 2, 3, 4, 5]\n",
    "result = apply_function(square, nums)  # Applies the square function to each number\n",
    "print(\"Result:\", result)  # Output: [1, 4, 9, 16, 25]\n"
   ]
  },
  {
   "cell_type": "code",
   "execution_count": 27,
   "id": "8978d0a9-9af7-40df-a81f-c09fc5430eb4",
   "metadata": {},
   "outputs": [
    {
     "name": "stdout",
     "output_type": "stream",
     "text": [
      "Square of 4: 16\n",
      "Square of 7: 49\n"
     ]
    }
   ],
   "source": [
    "square = lambda x: x ** 2\n",
    "\n",
    "# Example Usage\n",
    "print(\"Square of 4:\", square(4))  # Output: 16\n",
    "print(\"Square of 7:\", square(7))  # Output: 49\n"
   ]
  },
  {
   "cell_type": "code",
   "execution_count": 29,
   "id": "f2b82da6-1276-4bb7-ac80-f01462ac690c",
   "metadata": {},
   "outputs": [
    {
     "name": "stdout",
     "output_type": "stream",
     "text": [
      "Result: [2, 4, 6, 8, 10]\n"
     ]
    }
   ],
   "source": [
    "def apply_operation(func, numbers):\n",
    "    return [func(num) for num in numbers]\n",
    "\n",
    "# Example Usage\n",
    "double = lambda x: x * 2  # Example function to double a number\n",
    "\n",
    "nums = [1, 2, 3, 4, 5]\n",
    "result = apply_operation(double, nums)  # Applies the double function to each number\n",
    "print(\"Result:\", result)  # Output: [2, 4, 6, 8, 10]\n"
   ]
  },
  {
   "cell_type": "code",
   "execution_count": 31,
   "id": "7332f7e7-bd45-48cd-87d4-4078dadeee51",
   "metadata": {},
   "outputs": [
    {
     "name": "stdout",
     "output_type": "stream",
     "text": [
      "Execution time of slow_function: 2.000422 seconds\n"
     ]
    }
   ],
   "source": [
    "import time\n",
    "\n",
    "def time_it(func):\n",
    "    def wrapper(*args, **kwargs):\n",
    "        start_time = time.time()  # Record start time\n",
    "        result = func(*args, **kwargs)  # Call the original function\n",
    "        end_time = time.time()  # Record end time\n",
    "        execution_time = end_time - start_time  # Calculate the execution time\n",
    "        print(f\"Execution time of {func.__name__}: {execution_time:.6f} seconds\")\n",
    "        return result\n",
    "    return wrapper\n",
    "\n",
    "# Example Usage\n",
    "@time_it\n",
    "def slow_function():\n",
    "    time.sleep(2)  # Simulate a time-consuming task\n",
    "\n",
    "slow_function()\n"
   ]
  },
  {
   "cell_type": "code",
   "execution_count": null,
   "id": "5820d5bf-f8b5-44b9-afb4-d6b86f3cbf2f",
   "metadata": {},
   "outputs": [],
   "source": []
  },
  {
   "cell_type": "code",
   "execution_count": null,
   "id": "4c0d7cf0-32ad-4845-9b14-989385bc43d5",
   "metadata": {},
   "outputs": [],
   "source": []
  }
 ],
 "metadata": {
  "kernelspec": {
   "display_name": "Python 3 (ipykernel)",
   "language": "python",
   "name": "python3"
  },
  "language_info": {
   "codemirror_mode": {
    "name": "ipython",
    "version": 3
   },
   "file_extension": ".py",
   "mimetype": "text/x-python",
   "name": "python",
   "nbconvert_exporter": "python",
   "pygments_lexer": "ipython3",
   "version": "3.12.7"
  }
 },
 "nbformat": 4,
 "nbformat_minor": 5
}
